{
 "cells": [
  {
   "cell_type": "code",
   "execution_count": 11,
   "id": "7bbe30b3-db02-4258-b465-b676ee2b7e9d",
   "metadata": {},
   "outputs": [],
   "source": [
    "import numpy as np\n",
    "import data_gen\n",
    "import nnDON\n",
    "import pickle\n",
    "import torch.utils.data as data_0\n",
    "import torch\n",
    "import torch.nn as nn\n",
    "import matplotlib.pyplot as plt\n",
    "import os\n",
    "from scipy.integrate import odeint"
   ]
  },
  {
   "cell_type": "code",
   "execution_count": 12,
   "id": "890cd3dc-9a6c-4438-8636-1a3ab7c5a5a4",
   "metadata": {},
   "outputs": [],
   "source": [
    "def createFolder(directory):\n",
    "    try:\n",
    "        if not os.path.exists(directory):\n",
    "            os.makedirs(directory)\n",
    "    except OSError:\n",
    "        print ('Error: Creating directory. ' +  directory)\n"
   ]
  },
  {
   "cell_type": "code",
   "execution_count": null,
   "id": "9e5a6778-86a0-4587-996e-4f480471b8e9",
   "metadata": {},
   "outputs": [],
   "source": [
    "## setting parameters of ODE problem\n",
    "T = 1\n",
    "M = 300\n",
    "y0 = 0\n",
    "domain = np.linspace(-T, T, M)\n",
    "\n",
    "## parameters for data generator\n",
    "N = 3000\n",
    "order = 20\n",
    "\n",
    "## generate and save dataset\n",
    "train_raw_set = data_gen.raw_data_generator(N, order, domain, y0)\n",
    "createFolder('./data')\n",
    "with open(\"./data/NI_data.pickle\",\"wb\") as fw:\n",
    "    pickle.dump(train_raw_set, fw)"
   ]
  },
  {
   "cell_type": "code",
   "execution_count": null,
   "id": "4a194f46-8ad6-4384-883c-a281a495cc18",
   "metadata": {},
   "outputs": [],
   "source": [
    "\n",
    "## load dataset\n",
    "with open(\"./data/NI_data.pickle\",\"rb\") as fr:\n",
    "    train_raw_set_loaded = pickle.load(fr)\n",
    "\n",
    "## construct train data loader\n",
    "Batch_size = 10000\n",
    "tr_dataset = data_gen.Dataset(train_raw_set_loaded['train_X'].cuda().float(), train_raw_set_loaded['train_Y'].cuda().float())\n",
    "train_loader = data_0.DataLoader(tr_dataset, batch_size=Batch_size, shuffle=False)\n"
   ]
  },
  {
   "cell_type": "code",
   "execution_count": 13,
   "id": "3431b301-6cb0-4817-a387-735a96dd668d",
   "metadata": {},
   "outputs": [],
   "source": [
    "## is cuda available?\n",
    "device = torch.device('cuda:0' if torch.cuda.is_available() else 'cpu')\n",
    "\n",
    "## parameters for Neural Network\n",
    "width = 256\n",
    "depth = 3\n",
    "P = 64\n",
    "\n",
    "## define a model\n",
    "model = nnDON.DON(M, width, depth, P).cuda()"
   ]
  },
  {
   "cell_type": "code",
   "execution_count": 14,
   "id": "a48299f6-edbd-41ee-86be-2c9dea8cf93f",
   "metadata": {},
   "outputs": [
    {
     "name": "stderr",
     "output_type": "stream",
     "text": [
      "C:\\Users\\Public\\Documents\\ESTsoft\\CreatorTemp/ipykernel_7120/2300854556.py:7: UserWarning: nn.init.xavier_uniform is now deprecated in favor of nn.init.xavier_uniform_.\n",
      "  torch.nn.init.xavier_uniform(m.weight)\n"
     ]
    }
   ],
   "source": [
    "\n",
    "## setting hyperparameters\n",
    "learning_rate = 0.001\n",
    "num_epochs = 500\n",
    "\n",
    "def init_weights(m):\n",
    "    if isinstance(m, nn.Linear):\n",
    "        torch.nn.init.xavier_uniform(m.weight)\n",
    "        m.bias.data.fill_(0.01)\n",
    "\n",
    "model.apply(init_weights)\n",
    "\n",
    "criterion = nn.MSELoss()\n",
    "optimizer = torch.optim.Adam(model.parameters(), lr=learning_rate, weight_decay=1e-5)\n",
    "\n"
   ]
  },
  {
   "cell_type": "code",
   "execution_count": null,
   "id": "389298c9-6dd0-47f7-b49c-bea61bed9fd5",
   "metadata": {},
   "outputs": [],
   "source": [
    "\n",
    "## training model\n",
    "\n",
    "trainloss = []\n",
    "\n",
    "createFolder('./models')\n",
    "\n",
    "for epoch in range(num_epochs):\n",
    "    \n",
    "    tloss = 0\n",
    "    \n",
    "    n = 0\n",
    "    for batch in train_loader:\n",
    "        \n",
    "        x, y = batch\n",
    "        output = model(x)\n",
    "        optimizer.zero_grad()\n",
    "        loss = criterion(y, output)\n",
    "        loss.backward()\n",
    "        optimizer.step()\n",
    "        tloss += loss.detach().cpu().numpy()\n",
    "    \n",
    "        with torch.no_grad():\n",
    "            torch.cuda.empty_cache()\n",
    "            \n",
    "        n += 1\n",
    "    \n",
    "    ## save best model\n",
    "    if epoch != 0:\n",
    "        if tloss < trainloss[epoch-1]:\n",
    "            torch.save(model.state_dict(), './models/model.pt')\n",
    "        \n",
    "    trainloss.append(tloss)\n",
    "    \n",
    "    if epoch % 10 == 0:\n",
    "        print('epoch {} loss : {:.4}'.format(epoch,trainloss[epoch]))\n",
    "    "
   ]
  },
  {
   "cell_type": "code",
   "execution_count": null,
   "id": "08ca6078-74a6-4daf-845d-b768937aa569",
   "metadata": {},
   "outputs": [],
   "source": [
    "## plot loss\n",
    "plt.plot(trainloss)\n",
    "plt.xlabel('epoch')\n",
    "plt.ylabel('MSE loss')"
   ]
  },
  {
   "cell_type": "code",
   "execution_count": 15,
   "id": "a5453f6d-50c3-4adb-89cb-bde0a7df66c5",
   "metadata": {},
   "outputs": [
    {
     "data": {
      "text/plain": [
       "<All keys matched successfully>"
      ]
     },
     "execution_count": 15,
     "metadata": {},
     "output_type": "execute_result"
    }
   ],
   "source": [
    "## load best model\n",
    "model.load_state_dict(torch.load('./models/model.pt'))\n"
   ]
  },
  {
   "cell_type": "code",
   "execution_count": 20,
   "id": "56bebc30-c8b6-47f6-a691-2a532a2e649f",
   "metadata": {},
   "outputs": [
    {
     "data": {
      "text/plain": [
       "Text(0.5, 1.0, 'comparison')"
      ]
     },
     "execution_count": 20,
     "metadata": {},
     "output_type": "execute_result"
    },
    {
     "data": {
      "image/png": "[encoded data removed]",
      "text/plain": [
       "<Figure size 720x720 with 3 Axes>"
      ]
     },
     "metadata": {
      "needs_background": "light"
     },
     "output_type": "display_data"
    }
   ],
   "source": [
    "\n",
    "## demonstrating by example\n",
    "def func(y, t, c):\n",
    "    return np.polynomial.chebyshev.Chebyshev(c)(t)\n",
    "\n",
    "c = [np.random.rand(10)-0.5]\n",
    "x = np.polynomial.chebyshev.Chebyshev(c[0])(domain)\n",
    "y = odeint(func, 0, domain, args = tuple(c))\n",
    "\n",
    "result =  []\n",
    "for i in domain:\n",
    "    result.append(model(torch.cat((torch.tensor(x), torch.tensor([i]))).reshape(1,M+1).cuda().float()).cpu().detach().numpy())\n",
    "    \n",
    "plt.figure(figsize=(10,10))\n",
    "plt.subplot(2, 2, 1)  \n",
    "plt.plot(domain, result)\n",
    "plt.xlabel('x')\n",
    "plt.ylabel('y')\n",
    "plt.title('Neural Network')\n",
    "plt.subplot(2, 2, 2)  \n",
    "plt.plot(domain, y)\n",
    "plt.xlabel('x')\n",
    "plt.ylabel('y')\n",
    "plt.title('numerical solution')\n",
    "plt.subplot(2, 2, 3)  \n",
    "plt.plot(domain, result)\n",
    "plt.plot(domain, y)\n",
    "plt.xlabel('x')\n",
    "plt.ylabel('y')\n",
    "plt.title('comparison')"
   ]
  },
  {
   "cell_type": "code",
   "execution_count": null,
   "id": "9024d6b7-9f31-40ec-bfc6-2e645f628b48",
   "metadata": {},
   "outputs": [],
   "source": []
  },
  {
   "cell_type": "code",
   "execution_count": null,
   "id": "f9e0f8b0-1875-45fd-a76a-9e67b67f8a4d",
   "metadata": {},
   "outputs": [],
   "source": []
  }
 ],
 "metadata": {
  "kernelspec": {
   "display_name": "Python 3 (ipykernel)",
   "language": "python",
   "name": "python3"
  },
  "language_info": {
   "codemirror_mode": {
    "name": "ipython",
    "version": 3
   },
   "file_extension": ".py",
   "mimetype": "text/x-python",
   "name": "python",
   "nbconvert_exporter": "python",
   "pygments_lexer": "ipython3",
   "version": "3.9.6"
  }
 },
 "nbformat": 4,
 "nbformat_minor": 5
}
